{
 "cells": [
  {
   "cell_type": "markdown",
   "id": "628da95f-bb5f-4cad-a13b-ea6da68b5534",
   "metadata": {
    "editable": true,
    "slideshow": {
     "slide_type": ""
    },
    "tags": []
   },
   "source": [
    "## Libraries"
   ]
  },
  {
   "cell_type": "code",
   "execution_count": 100,
   "id": "c28e80ec-2a90-41ed-bddd-7be25f64b684",
   "metadata": {
    "editable": true,
    "slideshow": {
     "slide_type": ""
    },
    "tags": []
   },
   "outputs": [],
   "source": [
    "import pandas as pd\n",
    "import numpy as np\n",
    "\n",
    "import great_expectations as gx\n",
    "from great_expectations.core.batch import BatchRequest, RuntimeBatchRequest\n",
    "from great_expectations.expectations.expectation import ExpectationConfiguration\n",
    "from great_expectations import expectations as gxe\n",
    "\n",
    "import re\n",
    "import os\n",
    "\n",
    "pd.set_option('display.max_columns', 50)\n",
    "pd.set_option('display.max_rows', 50) # None\n",
    "\n",
    "import warnings\n",
    "warnings.simplefilter('ignore')"
   ]
  },
  {
   "cell_type": "markdown",
   "id": "bdc54a37-0fca-451b-b0bb-aca1f9bd5b12",
   "metadata": {},
   "source": [
    "## Imports"
   ]
  },
  {
   "cell_type": "code",
   "execution_count": 102,
   "id": "eae17d7f-c716-40d2-9a79-f9ef36ac1473",
   "metadata": {},
   "outputs": [
    {
     "name": "stdout",
     "output_type": "stream",
     "text": [
      "EphemeralDataContext\n"
     ]
    }
   ],
   "source": [
    "import shutil\n",
    "import os\n",
    "\n",
    "# Remove previous context (necessary when re-create data context)\n",
    "if os.path.exists(\"./context/gx\"):\n",
    "    shutil.rmtree(\"./context/gx\") \n",
    "\n",
    "# Create GX data context\n",
    "context = gx.get_context() # EphemeralDataContext\n",
    "#context = gx.get_context(mode=\"file\", project_root_dir=\"./context\") # FileDataContext\n",
    "\n",
    "print(type(context).__name__)"
   ]
  },
  {
   "cell_type": "markdown",
   "id": "63e78d61-6188-46c5-a6c5-a94807fa93be",
   "metadata": {},
   "source": [
    "## Great Expectations"
   ]
  },
  {
   "cell_type": "code",
   "execution_count": null,
   "id": "c08447d1-f0cc-49da-9c78-4bca0403761f",
   "metadata": {},
   "outputs": [],
   "source": [
    "# Dataset https://www.kaggle.com/datasets/uom190346a/sleep-health-and-lifestyle-dataset"
   ]
  },
  {
   "cell_type": "code",
   "execution_count": 103,
   "id": "f36941a8-6fd4-48d1-89ee-ac4a35cc5935",
   "metadata": {},
   "outputs": [],
   "source": [
    "source_folder = \"path\"\n",
    "data_source_name = \"my_filesystem_data_source\"\n",
    "data_source = context.data_sources.add_pandas(name=data_source_name)"
   ]
  },
  {
   "cell_type": "code",
   "execution_count": 104,
   "id": "a2ca69d0-c283-4afe-9070-ce9ada874f07",
   "metadata": {},
   "outputs": [
    {
     "name": "stdout",
     "output_type": "stream",
     "text": [
      "id: 35a03778-8693-4553-bae8-dcbf95a56c52\n",
      "name: my_filesystem_data_source\n",
      "type: pandas\n",
      "\n"
     ]
    }
   ],
   "source": [
    "print(data_source)"
   ]
  },
  {
   "cell_type": "code",
   "execution_count": 105,
   "id": "d2abbca5-c662-4894-ad76-0c811090a4e3",
   "metadata": {},
   "outputs": [],
   "source": [
    "asset_name = \"Sleep health and lifestyle dataset\"\n",
    "path_to_data = \"path\\\\Sleep_health_and_lifestyle_dataset.csv\"\n",
    "asset = data_source.add_csv_asset(name=asset_name, filepath_or_buffer=path_to_data)"
   ]
  },
  {
   "cell_type": "code",
   "execution_count": 106,
   "id": "59156814-80fe-4361-aa79-34e16ed741be",
   "metadata": {},
   "outputs": [],
   "source": [
    "dataframe = pd.read_csv(path_to_data)"
   ]
  },
  {
   "cell_type": "code",
   "execution_count": 108,
   "id": "06119cb4-e0f7-4828-a432-f32dd149735d",
   "metadata": {},
   "outputs": [
    {
     "name": "stderr",
     "output_type": "stream",
     "text": [
      "Calculating Metrics: 100%|██████████████████████████████████████████████████████████████| 1/1 [00:00<00:00, 250.60it/s]\n"
     ]
    },
    {
     "data": {
      "text/plain": [
       "   Person ID Gender  Age            Occupation  Sleep Duration  \\\n",
       "0          1   Male   27     Software Engineer             6.1   \n",
       "1          2   Male   28                Doctor             6.2   \n",
       "2          3   Male   28                Doctor             6.2   \n",
       "3          4   Male   28  Sales Representative             5.9   \n",
       "4          5   Male   28  Sales Representative             5.9   \n",
       "\n",
       "   Quality of Sleep  Physical Activity Level  Stress Level BMI Category  \\\n",
       "0                 6                       42             6   Overweight   \n",
       "1                 6                       60             8       Normal   \n",
       "2                 6                       60             8       Normal   \n",
       "3                 4                       30             8        Obese   \n",
       "4                 4                       30             8        Obese   \n",
       "\n",
       "  Blood Pressure  Heart Rate  Daily Steps Sleep Disorder  \n",
       "0         126/83          77         4200            NaN  \n",
       "1         125/80          75        10000            NaN  \n",
       "2         125/80          75        10000            NaN  \n",
       "3         140/90          85         3000    Sleep Apnea  \n",
       "4         140/90          85         3000    Sleep Apnea  "
      ]
     },
     "execution_count": 108,
     "metadata": {},
     "output_type": "execute_result"
    }
   ],
   "source": [
    "batch_definition_name = \"Sleep health and lifestyle dataset\"\n",
    "batch_definition = asset.add_batch_definition(\n",
    "    name=batch_definition_name)\n",
    "\n",
    "batch = batch_definition.get_batch()\n",
    "batch.head()"
   ]
  },
  {
   "cell_type": "markdown",
   "id": "71774122-a2d3-48c4-b7f7-dadc16ae1215",
   "metadata": {
    "editable": true,
    "slideshow": {
     "slide_type": ""
    },
    "tags": []
   },
   "source": [
    "### Expectations"
   ]
  },
  {
   "cell_type": "code",
   "execution_count": 109,
   "id": "f8d26762-d2b6-49cf-9290-336fb023120a",
   "metadata": {},
   "outputs": [],
   "source": [
    "# Create GX expectation suite (test suite)\n",
    "suite_name = f\"{data_source_name}_suite\"\n",
    "suite = gx.ExpectationSuite(name=suite_name)\n",
    "\n",
    "# Add GX expectation suite to context\n",
    "suite = context.suites.add(suite)"
   ]
  },
  {
   "cell_type": "code",
   "execution_count": 110,
   "id": "6c1c3830-a847-4750-b40c-7053dab720e7",
   "metadata": {},
   "outputs": [
    {
     "name": "stdout",
     "output_type": "stream",
     "text": [
      "Columns para Id: ['Person ID']\n",
      "Columns para Age: ['Age']\n",
      "Columns para Date columns: []\n",
      "Columns para Sex columns: ['Gender']\n",
      "Columns para BMI columns: ['BMI Category']\n",
      "Columns para Col columns: ['Sleep Duration', 'Physical Activity Level', 'Heart Rate']\n"
     ]
    }
   ],
   "source": [
    "all_test_case = []\n",
    "\n",
    "# ID ########################################\n",
    "id_variants = ['id', 'patientid', 'patient_id', 'patient id', 'person id', 'person_id', 'personid']\n",
    "id_columns = [column for column in dataframe.columns if column.lower() in id_variants]\n",
    "print(\"Columns para Id:\", id_columns)\n",
    "if id_columns:\n",
    "    column_name = id_columns[0]\n",
    "\n",
    "    all_test_case.append(\n",
    "        gxe.ExpectColumnValuesToBeUnique(\n",
    "            column=column_name\n",
    "        ))\n",
    "\n",
    "    all_test_case.append(\n",
    "        gxe.ExpectColumnValuesToNotBeNull(\n",
    "            column=column_name\n",
    "        ))\n",
    "\n",
    "# Age #########################################\n",
    "age_keywords = ['age', 'edad']\n",
    "age_pattern = re.compile(r'|'.join(age_keywords), re.IGNORECASE)\n",
    "age_columns = [column for column in dataframe.columns if age_pattern.search(column)]\n",
    "print(\"Columns para Age:\", age_columns)\n",
    "for column_name in age_columns:\n",
    "\n",
    "    all_test_case.append(\n",
    "        gxe.ExpectColumnValuesToBeInTypeList(\n",
    "            column=column_name,\n",
    "            type_list=[\"int64\", \"float64\"]\n",
    "        ))\n",
    "\n",
    "    all_test_case.append(\n",
    "        gxe.ExpectColumnValueZScoresToBeLessThan(\n",
    "            column=column_name,\n",
    "            threshold=1.96,\n",
    "            double_sided=True\n",
    "        ))\n",
    "\n",
    "    if pd.api.types.is_numeric_dtype(dataframe[column_name]):\n",
    "        all_test_case.append(\n",
    "            gxe.ExpectColumnValuesToBeBetween(\n",
    "                column=column_name,\n",
    "                min_value=0,\n",
    "                max_value=120\n",
    "        ))     \n",
    "    \n",
    "# Date ########################################\n",
    "date_keywords = ['date', 'fecha', 'data']\n",
    "date_pattern = re.compile(r'|'.join(date_keywords), re.IGNORECASE)\n",
    "date_columns = [column for column in dataframe.columns if date_pattern.search(column)]\n",
    "date_regex = ['\\d{4}-(0[1-9]|1[0-2])-(0[1-9]|[12][0-9]|3[01])', # YYYY-MM-DD r\"^\\d{4}-\\d{2}-\\d{2}$\"\n",
    "              '(0[1-9]|1[0-2])/(0[1-9]|[12][0-9]|3[01])/\\d{4}', # MM/DD/YYYY\n",
    "              '(0[1-9]|[12][0-9]|3[01])/(0[1-9]|1[0-2])/\\d{4}', # DD/MM/YYYY\n",
    "              '(0[1-9]|[12][0-9]|3[01])-(0[1-9]|1[0-2])-\\d{4}', # DD-MM-YYYY\n",
    "              '(0[1-9]|[12][0-9]|3[01]).(0[1-9]|1[0-2]).\\d{4}'] # DD.MM.YYYY\n",
    "\n",
    "#format_descriptions_date = \"YYYY-MM-DD, MM/DD/YYYY, DD/MM/YYYY, DD-MM-YYYY, DD.MM.YYYY\"\n",
    "print(\"Columns para Date columns:\", date_columns)\n",
    "for column_name in date_columns:\n",
    "    all_test_case.append(\n",
    "        gxe.ExpectColumnValuesToMatchRegexList(\n",
    "            column=column_name,\n",
    "            regex_list=date_regex,\n",
    "            match_on=\"any\"\n",
    "    ))\n",
    "\n",
    "# Sex #########################################\n",
    "sex_keywords = ['sex', 'gender']\n",
    "sex_pattern = re.compile(r'|'.join(sex_keywords), re.IGNORECASE)\n",
    "sex_columns = [column for column in dataframe.columns if sex_pattern.search(column)]\n",
    "sex_value_patterns = [\n",
    "    r'^[MF]$',\n",
    "    r'^(Male|Female)$',\n",
    "    r'^[01]$',\n",
    "    r'^[mf]$'\n",
    "]\n",
    "#format_descriptions_sex = \"M and F, Male and Female, Mâle and Femelle, Macho and Hembra, m and f or 0 and 1\"\n",
    "print(\"Columns para Sex columns:\", sex_columns)\n",
    "for column_name in sex_columns:\n",
    "    all_test_case.append(\n",
    "        gxe.ExpectColumnValuesToMatchRegexList(\n",
    "            column=column_name,\n",
    "            regex_list=sex_value_patterns,\n",
    "            match_on=\"any\"\n",
    "    ))\n",
    "    \n",
    "# BMI #########################################\n",
    "bmi_pattern = re.compile(r'bmi', re.IGNORECASE)\n",
    "bmi_columns = [column for column in dataframe.columns if bmi_pattern.search(column)]\n",
    "print(\"Columns para BMI columns:\", bmi_columns)\n",
    "for column_name in bmi_columns:\n",
    "    all_test_case.append(\n",
    "        gxe.ExpectColumnValuesToBeInTypeList(\n",
    "            column=column_name,\n",
    "            type_list=[\"int64\", \"float64\"]\n",
    "    ))\n",
    "    if pd.api.types.is_numeric_dtype(dataframe[column_name]):\n",
    "        all_test_case.append(\n",
    "            gxe.ExpectColumnValuesToBeBetween(\n",
    "            column=column_name,\n",
    "            min_value=10,\n",
    "            max_value=60,\n",
    "            mostly=0.99\n",
    "        ))\n",
    "    \n",
    "    all_test_case.append(\n",
    "        gxe.ExpectColumnValuesToBeInTypeList(\n",
    "        column=column_name,\n",
    "        type_list=[\"int64\", \"float64\"]\n",
    "    ))\n",
    "\n",
    "# Columnas con numeros ########################\n",
    "col_keywords = ['min', 'max', 'mean', 'median', 'sum', 'average', 'avg', 'media', 'height', 'weight', 'kilo', 'gram',\n",
    "                'percent', 'perimeter', 'radius', 'temperatura', 'metre', 'centimetre', 'milimeter', 'ratio', 'length',\n",
    "                'duration', 'rate', 'width', 'depth', 'diameter', 'distance', 'price', 'cost', 'revenue', 'income', \n",
    "                'humidity', 'pH', 'voltage', 'current']\n",
    "col_pattern = re.compile(r'|'.join(col_keywords), re.IGNORECASE)\n",
    "col_columns = [column for column in dataframe.columns if col_pattern.search(column)]\n",
    "print(\"Columns para Col columns:\", col_columns)\n",
    "for column_name in col_columns:\n",
    "    all_test_case.append(\n",
    "        gxe.ExpectColumnValuesToBeInTypeList(\n",
    "        column=column_name,\n",
    "        type_list=[\"int64\", \"float64\"]     \n",
    "    ))\n",
    "\n",
    "    all_test_case.append(\n",
    "        gxe.ExpectColumnValueZScoresToBeLessThan(\n",
    "        column=column_name,\n",
    "        threshold=1.96, # 95%, 99% = 2.58\n",
    "        double_sided=True \n",
    "    ))\n",
    "\n",
    "for column in dataframe.columns:\n",
    "    all_test_case.append(\n",
    "        gxe.ExpectColumnValuesToNotBeNull(\n",
    "       column=column,\n",
    "       mostly=0.90\n",
    "       ))\n",
    "\n",
    "\n",
    "for test_case in all_test_case:\n",
    "    suite.add_expectation(test_case)"
   ]
  },
  {
   "cell_type": "markdown",
   "id": "682d25b9-afca-458d-ad58-43343a38923b",
   "metadata": {
    "editable": true,
    "slideshow": {
     "slide_type": ""
    },
    "tags": []
   },
   "source": [
    "### Validation"
   ]
  },
  {
   "cell_type": "code",
   "execution_count": 111,
   "id": "42ba7a8d-ec06-4de5-a950-c2b58abc5c7e",
   "metadata": {},
   "outputs": [
    {
     "name": "stderr",
     "output_type": "stream",
     "text": [
      "Calculating Metrics: 100%|██████████████████████████████████████████████████████████| 133/133 [00:00<00:00, 294.30it/s]\n"
     ]
    }
   ],
   "source": [
    "# Create GX validation definition\n",
    "definition_name = f\"{data_source_name}_definition\"\n",
    "validation_definition = gx.ValidationDefinition(\n",
    "    data=batch_definition, suite=suite, name=definition_name\n",
    ")\n",
    "\n",
    "# Add validation definition to context\n",
    "validation_definition = context.validation_definitions.add(\n",
    "  validation_definition\n",
    ")\n",
    "\n",
    "# Run validation (run test suite)\n",
    "validation_results = validation_definition.run()"
   ]
  },
  {
   "cell_type": "markdown",
   "id": "123b2420-87e6-416d-8204-cea5f74d2439",
   "metadata": {
    "editable": true,
    "slideshow": {
     "slide_type": ""
    },
    "tags": []
   },
   "source": [
    "### Checkpoint"
   ]
  },
  {
   "cell_type": "code",
   "execution_count": 112,
   "id": "a0f89b58-764c-4c57-a205-9f7ce6f0b770",
   "metadata": {},
   "outputs": [],
   "source": [
    "action_list = [\n",
    "    # This Action updates the Data Docs static website with the Validation\n",
    "    # Results after the Checkpoint is run.\n",
    "    gx.checkpoint.UpdateDataDocsAction(\n",
    "        name=\"update_all_data_docs\",\n",
    "    ),\n",
    "]\n",
    "\n",
    "# Create GX checkpoint\n",
    "checkpoint_name = f\"{data_source_name}_checkpoint\"\n",
    "checkpoint = gx.Checkpoint(\n",
    "    name=checkpoint_name,\n",
    "    validation_definitions=[validation_definition],\n",
    "    actions=action_list,\n",
    "    result_format={\"result_format\": \"COMPLETE\"},\n",
    ")\n",
    "\n",
    "# Add GX checkpint suite to context\n",
    "checkpoint = context.checkpoints.add(checkpoint)"
   ]
  },
  {
   "cell_type": "markdown",
   "id": "ec9f8511-be46-4835-8e42-9b066f2f185c",
   "metadata": {
    "editable": true,
    "slideshow": {
     "slide_type": ""
    },
    "tags": []
   },
   "source": [
    "### Export report to Data_docs"
   ]
  },
  {
   "cell_type": "code",
   "execution_count": 113,
   "id": "c6f49239-c656-4e36-9e98-fd32cbc86b03",
   "metadata": {},
   "outputs": [
    {
     "name": "stderr",
     "output_type": "stream",
     "text": [
      "Calculating Metrics: 100%|██████████████████████████████████████████████████████████| 133/133 [00:00<00:00, 215.69it/s]\n"
     ]
    }
   ],
   "source": [
    "import time\n",
    "\n",
    "site_config = {\n",
    "    \"class_name\": \"SiteBuilder\",\n",
    "    \"site_index_builder\": {\"class_name\": \"DefaultSiteIndexBuilder\"},\n",
    "    \"store_backend\": {\n",
    "        \"class_name\": \"TupleFilesystemStoreBackend\",\n",
    "        \"base_directory\": \"path\"\n",
    "    },\n",
    "}\n",
    "\n",
    "# Add data docs to context\n",
    "site_name = f\"{data_source_name}_docs_site_{int(time.time())}\"\n",
    "context.add_data_docs_site(site_name=site_name, site_config=site_config)\n",
    "\n",
    "result = checkpoint.run()"
   ]
  },
  {
   "cell_type": "code",
   "execution_count": null,
   "id": "9b409161-8f4f-4064-9d4c-bde9e00dff31",
   "metadata": {
    "editable": true,
    "slideshow": {
     "slide_type": ""
    },
    "tags": []
   },
   "outputs": [],
   "source": []
  }
 ],
 "metadata": {
  "kernelspec": {
   "display_name": "Python 3 (ipykernel)",
   "language": "python",
   "name": "python3"
  },
  "language_info": {
   "codemirror_mode": {
    "name": "ipython",
    "version": 3
   },
   "file_extension": ".py",
   "mimetype": "text/x-python",
   "name": "python",
   "nbconvert_exporter": "python",
   "pygments_lexer": "ipython3",
   "version": "3.12.4"
  }
 },
 "nbformat": 4,
 "nbformat_minor": 5
}
